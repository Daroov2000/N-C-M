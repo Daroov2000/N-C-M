{
 "cells": [
  {
   "cell_type": "code",
   "execution_count": 1,
   "metadata": {},
   "outputs": [],
   "source": [
    "import matplotlib\n",
    "from matplotlib.pyplot import *\n",
    "from numpy import *"
   ]
  },
  {
   "cell_type": "markdown",
   "metadata": {},
   "source": [
    "1) Newton's Method"
   ]
  },
  {
   "cell_type": "code",
   "execution_count": 2,
   "metadata": {},
   "outputs": [
    {
     "data": {
      "text/plain": [
       "5.838208095398307"
      ]
     },
     "execution_count": 2,
     "metadata": {},
     "output_type": "execute_result"
    }
   ],
   "source": [
    "def f(x):\n",
    "    return x**3/3-2*x**2+x-4\n",
    "def df(x):\n",
    "    return x**2-4*x+1\n",
    "\n",
    "def newton(f,df,x0):\n",
    "    x = [x0]\n",
    "    for i in range(10):\n",
    "        x.append (x[-1]-f(x[-1])/df(x[-1])) #append adds new elements to the list\n",
    "    return x[-1] #picking -1 implies taking the last element from the list and keep computing the estimation\n",
    "\n",
    "newton(f,df,5.75) #plot to use a good point"
   ]
  },
  {
   "cell_type": "markdown",
   "metadata": {},
   "source": [
    "2) Secant Method"
   ]
  },
  {
   "cell_type": "code",
   "execution_count": 3,
   "metadata": {},
   "outputs": [
    {
     "data": {
      "text/plain": [
       "5.838208095398307"
      ]
     },
     "execution_count": 3,
     "metadata": {},
     "output_type": "execute_result"
    }
   ],
   "source": [
    "def f(x):\n",
    "    return x**3/3-2*x**2+x-4\n",
    "\n",
    "def secant(f,x0,xm1):\n",
    "    x = [xm1,x0]\n",
    "    for i in range(10):\n",
    "        x.append ((x[-1]*f(x[-2])-x[-2]*f(x[-1]))/(f(x[-2])-f(x[-1])))\n",
    "    return x[-1]\n",
    "                  \n",
    "secant(f,8,5)"
   ]
  },
  {
   "cell_type": "markdown",
   "metadata": {},
   "source": [
    "3) Bisection Method"
   ]
  },
  {
   "cell_type": "code",
   "execution_count": 4,
   "metadata": {},
   "outputs": [
    {
     "data": {
      "text/plain": [
       "5.8388671875"
      ]
     },
     "execution_count": 4,
     "metadata": {},
     "output_type": "execute_result"
    }
   ],
   "source": [
    "def f(x):\n",
    "    return x**3/3-2*x**2+x-4\n",
    "\n",
    "def bisection(f,a,b):\n",
    "    for k in range(10):\n",
    "        c = (a+b)/2                #find midpoint\n",
    "        if abs (f(c)) < 10**(-10): #estimated root super close to the root\n",
    "            return c               #thus our c is found\n",
    "        if f(a)*f(c)<0:            #here we know that the root is between a and c\n",
    "            b=c                    #now we estimate between a and c\n",
    "        else:\n",
    "            a=c                    #if not between a and c then root is between c and b\n",
    "    return c\n",
    "            \n",
    "bisection(f,5.5,6.5)"
   ]
  },
  {
   "cell_type": "markdown",
   "metadata": {},
   "source": [
    "Checking Newton's, Secant, and Bisection"
   ]
  },
  {
   "cell_type": "code",
   "execution_count": 5,
   "metadata": {},
   "outputs": [
    {
     "data": {
      "text/plain": [
       "array([5.8382081 +0.j        , 0.08089595+1.43139129j,\n",
       "       0.08089595-1.43139129j])"
      ]
     },
     "execution_count": 5,
     "metadata": {},
     "output_type": "execute_result"
    }
   ],
   "source": [
    "roots([1/3,-2,1,-4])"
   ]
  },
  {
   "cell_type": "code",
   "execution_count": 6,
   "metadata": {},
   "outputs": [
    {
     "data": {
      "image/png": "[encoded data removed]",
      "text/plain": [
       "<Figure size 432x288 with 1 Axes>"
      ]
     },
     "metadata": {
      "needs_background": "light"
     },
     "output_type": "display_data"
    }
   ],
   "source": [
    "xs = linspace(0,7,100)\n",
    "ys = [f(x) for x in xs]\n",
    "plot(xs,ys)\n",
    "xs = linspace(0,7,100)\n",
    "ys= [0 for x in xs]\n",
    "plot(xs,ys)\n",
    "grid()"
   ]
  },
  {
   "cell_type": "markdown",
   "metadata": {},
   "source": [
    "4) Lagrange Interpolation"
   ]
  },
  {
   "cell_type": "code",
   "execution_count": 45,
   "metadata": {},
   "outputs": [],
   "source": [
    "def fu(x,i,xs):\n",
    "    xi = xs[i]\n",
    "    res = 1;\n",
    "    for xj in xs:\n",
    "        if xj!= xi:\n",
    "            res = res*(x-xj)/(xi-xj)\n",
    "    return res\n",
    "\n",
    "def lagrange(x):\n",
    "    res = 0;\n",
    "    for i in range(len(ys)):\n",
    "        res = res + ys[i]*fu(x,i,xs)\n",
    "    return res"
   ]
  },
  {
   "cell_type": "code",
   "execution_count": 46,
   "metadata": {},
   "outputs": [
    {
     "name": "stdout",
     "output_type": "stream",
     "text": [
      "0.8402717495092548\n"
     ]
    },
    {
     "data": {
      "image/png": "[encoded data removed]",
      "text/plain": [
       "<Figure size 432x288 with 1 Axes>"
      ]
     },
     "metadata": {
      "needs_background": "light"
     },
     "output_type": "display_data"
    }
   ],
   "source": [
    "xs = [1,2,3,4,5,6];\n",
    "ys = [0,0.841471,0.909297,0.14112,-0.756802,-0.958924];\n",
    "print(lagrange(pi))\n",
    "\n",
    "xd = arange(0,7,0.1)\n",
    "plot(xs,ys,'ro')\n",
    "plot(xd,lagrange(xd))\n",
    "grid()"
   ]
  },
  {
   "cell_type": "markdown",
   "metadata": {},
   "source": [
    "5) Polynomial Fit"
   ]
  },
  {
   "cell_type": "code",
   "execution_count": 9,
   "metadata": {},
   "outputs": [],
   "source": [
    "def findas(m,xs,ys):\n",
    "    A= array([[0]*(m+1)]*(m+1))    #creating an empty matrix\n",
    "    b= array([0]*(m+1))            #creating an empty vector\n",
    "    for k in range(m+1):           #filling in A and b with values\n",
    "        b[k]= sum(ys*xs**k)        #following from the formula\n",
    "        for i in range(m+1):\n",
    "            A[k,i]= sum(xs**(k+i)) #following from the formula\n",
    "    coefs= linalg.solve(A,b)\n",
    "    print (coefs)                  #coefficients of the linear equation\n",
    "    def fit(x):\n",
    "        return sum(coefs*(x**array(range(len(coefs)))))\n",
    "    return fit"
   ]
  },
  {
   "cell_type": "code",
   "execution_count": 43,
   "metadata": {},
   "outputs": [
    {
     "name": "stdout",
     "output_type": "stream",
     "text": [
      "[-4.75       -0.00892857  1.0625    ]\n"
     ]
    },
    {
     "data": {
      "image/png": "[encoded data removed]",
      "text/plain": [
       "<Figure size 432x288 with 1 Axes>"
      ]
     },
     "metadata": {
      "needs_background": "light"
     },
     "output_type": "display_data"
    }
   ],
   "source": [
    "xs = array([1,2,3,4,5,6]);\n",
    "ys = array([-5.21659,2.53152,2.05687,14.1135,20.9673,33.5652]);\n",
    "ft = findas(2,xs,ys)\n",
    "\n",
    "xd = arange(0,7,0.1)\n",
    "fitlist = list(map(lambda x: ft(x),xd))\n",
    "\n",
    "plot(xs,ys,'ro')\n",
    "plot(xd,fitlist)\n",
    "grid()"
   ]
  },
  {
   "cell_type": "markdown",
   "metadata": {},
   "source": [
    "6) Numerical Differentiation & 7) Richardson Extrapolation"
   ]
  },
  {
   "cell_type": "code",
   "execution_count": 11,
   "metadata": {},
   "outputs": [
    {
     "data": {
      "text/plain": [
       "0.0014017505824611698"
      ]
     },
     "execution_count": 11,
     "metadata": {},
     "output_type": "execute_result"
    }
   ],
   "source": [
    "def f(x):\n",
    "    return cos(x)\n",
    "def df(x):\n",
    "    return -sin(x)\n",
    "\n",
    "def dfaprox(x,h):\n",
    "    return ((f(x+h)-f(x-h))/(2*h))   #formula for derivative\n",
    "\n",
    "def ddfapprox(x,h):\n",
    "    return((f(x+h)-2*f(x)+f(x-h))/h**2)  #formula for second derivative\n",
    "\n",
    "dfaprox(1,1/10)-df(1)      #use x=1 and h=1/10 if Q doesn't specify"
   ]
  },
  {
   "cell_type": "code",
   "execution_count": 12,
   "metadata": {},
   "outputs": [
    {
     "data": {
      "text/plain": [
       "1.4024446293614545e-05"
      ]
     },
     "execution_count": 12,
     "metadata": {},
     "output_type": "execute_result"
    }
   ],
   "source": [
    "def error(x,h):\n",
    "    return dfaprox(x,h)-df(x)\n",
    "\n",
    "error(1,1/100)"
   ]
  },
  {
   "cell_type": "code",
   "execution_count": 13,
   "metadata": {},
   "outputs": [
    {
     "name": "stdout",
     "output_type": "stream",
     "text": [
      "h= 0.1 error is 0.0014017505824611698\n",
      "h= 0.01 error is 1.4024446293614545e-05\n",
      "h= 0.001 error is 1.4024518812938425e-07\n",
      "h= 0.0001 error is 1.4025285377528007e-09\n",
      "h= 1e-05 error is 1.086408740746947e-11\n",
      "h= 1e-06 error is 2.7517321754544355e-11\n",
      "h= 1e-07 error is -3.055495856330026e-10\n",
      "h= 1e-08 error is -2.5259956348833157e-09\n",
      "h= 1e-09 error is -1.9179341004260664e-08\n",
      "h= 1e-10 error is 2.0286526392077064e-07\n",
      "h= 1e-11 error is 5.198868874733975e-06\n",
      "h= 1e-12 error is -2.255670674089494e-05\n",
      "h= 1e-13 error is -7.806785797215277e-05\n",
      "h= 1e-14 error is 0.003252601215903317\n",
      "h= 1e-15 error is -0.046707434892228616\n",
      "h= 1e-16 error is 0.8414709848078965\n"
     ]
    }
   ],
   "source": [
    "for i in range(1,17):          #python can't differentiate between 10**-16 and 0 so we go up to 16\n",
    "    h= 1/10**i\n",
    "    print(\"h=\",h,\"error is\",error(1,h))"
   ]
  },
  {
   "cell_type": "code",
   "execution_count": 14,
   "metadata": {},
   "outputs": [
    {
     "name": "stdout",
     "output_type": "stream",
     "text": [
      "-0.14112000805692193\n"
     ]
    }
   ],
   "source": [
    "h1= 1/100\n",
    "h2= 1/200          #h1 is supposed to be double of h2\n",
    "p=2                #use these values unless given \n",
    "rich= ((h1/h2)**p*dfaprox(3,h2)-dfaprox(3,h1))/(((h1/h2)**p)-1) #for f,x given in Q but here x=3\n",
    "print(rich)"
   ]
  },
  {
   "cell_type": "markdown",
   "metadata": {},
   "source": [
    "8) Trapezoidal Method & 9) Midpoint Method & 10) Simpson's Rule"
   ]
  },
  {
   "cell_type": "code",
   "execution_count": 15,
   "metadata": {},
   "outputs": [
    {
     "data": {
      "text/plain": [
       "4.000500128006087"
      ]
     },
     "execution_count": 15,
     "metadata": {},
     "output_type": "execute_result"
    }
   ],
   "source": [
    "def trapezoidal(a,b,f,n): \n",
    "    # a,b - integration limits, \n",
    "    #f the function we integrate, \n",
    "    #n is the number of segments to use\n",
    "    h = (b-a)/n\n",
    "    xs = linspace(a,b,n+1) # list of the nodal points\n",
    "    fs = [f(x) for x in xs] # list of values of f at the nodal points\n",
    "    return sum(fs)*h-f(a)*h/2-f(b)*h/2\n",
    "\n",
    "t10 = trapezoidal(0,1,cos,10)-sin(1) # experimental error for 10 points\n",
    "t20 = trapezoidal(0,1,cos,20)-sin(1) # experimental error for 20 points\n",
    "t10/t20"
   ]
  },
  {
   "cell_type": "code",
   "execution_count": 16,
   "metadata": {},
   "outputs": [
    {
     "data": {
      "text/plain": [
       "0.0003507151993992208"
      ]
     },
     "execution_count": 16,
     "metadata": {},
     "output_type": "execute_result"
    }
   ],
   "source": [
    "def midpoint(a,b,f,n):\n",
    "    h = (b-a)/n\n",
    "    xs = linspace(a+h/2,b-h/2,n) # n points this time!\n",
    "    fs = [f(x) for x in xs]\n",
    "    return sum(fs)*h\n",
    "\n",
    "m10 = midpoint(0,1,cos,10)-sin(1)\n",
    "m10"
   ]
  },
  {
   "cell_type": "code",
   "execution_count": 17,
   "metadata": {},
   "outputs": [
    {
     "data": {
      "text/plain": [
       "-1.9997499985120628"
      ]
     },
     "execution_count": 17,
     "metadata": {},
     "output_type": "execute_result"
    }
   ],
   "source": [
    "t10/m10 # error of the trapezoidal is 2 times of the error of the midpoint"
   ]
  },
  {
   "cell_type": "code",
   "execution_count": 18,
   "metadata": {},
   "outputs": [
    {
     "data": {
      "text/plain": [
       "8.767932169195802e-08"
      ]
     },
     "execution_count": 18,
     "metadata": {},
     "output_type": "execute_result"
    }
   ],
   "source": [
    "t10+2*m10 # error cancels"
   ]
  },
  {
   "cell_type": "code",
   "execution_count": 19,
   "metadata": {},
   "outputs": [
    {
     "data": {
      "text/plain": [
       "4.000875224570864"
      ]
     },
     "execution_count": 19,
     "metadata": {},
     "output_type": "execute_result"
    }
   ],
   "source": [
    "m20 = midpoint(0,1,cos,20)-sin(1)\n",
    "m10/m20"
   ]
  },
  {
   "cell_type": "code",
   "execution_count": 20,
   "metadata": {},
   "outputs": [
    {
     "data": {
      "text/plain": [
       "2.9226440600993442e-08"
      ]
     },
     "execution_count": 20,
     "metadata": {},
     "output_type": "execute_result"
    }
   ],
   "source": [
    "def simpson(a,b,f,n):\n",
    "    return (trapezoidal(a,b,f,n)+2*midpoint(a,b,f,n))/3\n",
    "\n",
    "simpson(0,1,cos,10)-sin(1)"
   ]
  },
  {
   "cell_type": "code",
   "execution_count": 21,
   "metadata": {},
   "outputs": [
    {
     "data": {
      "text/plain": [
       "-0.0007013427194767496"
      ]
     },
     "execution_count": 21,
     "metadata": {},
     "output_type": "execute_result"
    }
   ],
   "source": [
    "t10"
   ]
  },
  {
   "cell_type": "markdown",
   "metadata": {},
   "source": [
    "11) Gaussian Integration"
   ]
  },
  {
   "cell_type": "code",
   "execution_count": 22,
   "metadata": {},
   "outputs": [],
   "source": [
    "a,b = -1,1\n",
    "def h(k): #define a measure function\n",
    "    return ((-1)**k+1)/(k+1) #given"
   ]
  },
  {
   "cell_type": "code",
   "execution_count": 23,
   "metadata": {},
   "outputs": [
    {
     "data": {
      "text/plain": [
       "(array([-0.93246951, -0.66120939,  0.93246951,  0.66120939, -0.23861919,\n",
       "         0.23861919]),\n",
       " array([0.17132449, 0.36076157, 0.17132449, 0.36076157, 0.46791393,\n",
       "        0.46791393]))"
      ]
     },
     "execution_count": 23,
     "metadata": {},
     "output_type": "execute_result"
    }
   ],
   "source": [
    "#first find coeffecients of the orthogonal polynomial\n",
    "n = 5\n",
    "B = zeros([n+1,n+1]) #start from an empty matrix\n",
    "b = zeros(n+1)\n",
    "for k in range(n+1):\n",
    "    for i in range(n+1):\n",
    "        B[k,i] = h(i+k)\n",
    "#building the R.H.S\n",
    "for k in range(n+1):\n",
    "    b[k] = -h(n+1+k)\n",
    "c= linalg.solve(B,b)\n",
    "\n",
    "#finding roots\n",
    "p = [1] + list(c)[::-1] #reverse and add leading 1 for x**n coeffecient\n",
    "xs = roots(p) #find the nodal points x_i\n",
    "\n",
    "#finding weights\n",
    "B = zeros([n+1,n+1])\n",
    "b = zeros (n+1)\n",
    "for m in range(n+1):\n",
    "    for i in range(n+1):\n",
    "        B[m,i] = xs[i]**m #order of indices is important\n",
    "for m in range(n+1):\n",
    "    b[m] = h(m)\n",
    "As = linalg.solve(B,b)\n",
    "\n",
    "xs,As"
   ]
  },
  {
   "cell_type": "code",
   "execution_count": 24,
   "metadata": {},
   "outputs": [
    {
     "data": {
      "text/plain": [
       "3.141463414634146"
      ]
     },
     "execution_count": 24,
     "metadata": {},
     "output_type": "execute_result"
    }
   ],
   "source": [
    "def f(x): #compute the integral\n",
    "    return 2/(1+x**2)\n",
    "\n",
    "sum(As*f(xs))"
   ]
  },
  {
   "cell_type": "markdown",
   "metadata": {},
   "source": [
    "12) Monte-Carlo Method"
   ]
  },
  {
   "cell_type": "code",
   "execution_count": 25,
   "metadata": {},
   "outputs": [
    {
     "name": "stdout",
     "output_type": "stream",
     "text": [
      "result: 4.1952 error: 0.039952342809902903 exact result: 4.1887902047863905 actual error: 0.006409795213609293\n"
     ]
    }
   ],
   "source": [
    "#Volume of a 3D unit sphere\n",
    "N = 10000 #total number of points to use\n",
    "n = 0 #set counter to zero\n",
    "for i in range(N):\n",
    "    x = random.uniform(-1,1)\n",
    "    y = random.uniform(-1,1)\n",
    "    z = random.uniform(-1,1)\n",
    "    if (x**2+y**2+z**2<1):\n",
    "        n = n+1\n",
    "p = n/N #estimate of the probability\n",
    "S = 2*2*2 # total volume of sphere\n",
    "S1 = S*p\n",
    "S2 = S-S1\n",
    "error = sqrt(S1*S2/N)\n",
    "print(\"result:\",S1,\"error:\", error,\"exact result:\", 4.0*pi/3,\"actual error:\", S1-(4*pi)/3)"
   ]
  },
  {
   "cell_type": "markdown",
   "metadata": {},
   "source": [
    "13) Euler's Method"
   ]
  },
  {
   "cell_type": "code",
   "execution_count": 47,
   "metadata": {},
   "outputs": [],
   "source": [
    "def exact(x): #exact solution for comparison and test\n",
    "    return exp(sin(4*x)/4)\n",
    "\n",
    "#equation of the type y'(x) = F(x,y(x))\n",
    "#euler: y(x+h) = y(x)+h*F(x,y(x))\n",
    "#below is an example\n",
    "def F(x,y):\n",
    "    return y*cos(4*x)"
   ]
  },
  {
   "cell_type": "code",
   "execution_count": 50,
   "metadata": {},
   "outputs": [
    {
     "data": {
      "text/plain": [
       "[<matplotlib.lines.Line2D at 0x197a58a4198>]"
      ]
     },
     "execution_count": 50,
     "metadata": {},
     "output_type": "execute_result"
    },
    {
     "data": {
      "image/png": "[encoded data removed]",
      "text/plain": [
       "<Figure size 432x288 with 1 Axes>"
      ]
     },
     "metadata": {
      "needs_background": "light"
     },
     "output_type": "display_data"
    }
   ],
   "source": [
    "n= 20\n",
    "xs = linspace(0,1,n) #generate n points\n",
    "h = xs[1]-xs[0] #1/n-1\n",
    "ys = zeros(n) #empty list of values y(xs)\n",
    "ys[0] = 1 #starting point\n",
    "for i in range(n-1):\n",
    "    x = xs[i]\n",
    "    y = ys[i]\n",
    "    ys[i+1] = y+h*F(x,y)\n",
    "zs = [exact(x) for x in xs]\n",
    "\n",
    "plot(xs,ys)\n",
    "plot(xs,zs)"
   ]
  },
  {
   "cell_type": "code",
   "execution_count": 51,
   "metadata": {},
   "outputs": [
    {
     "data": {
      "text/plain": [
       "[<matplotlib.lines.Line2D at 0x197a59390f0>]"
      ]
     },
     "execution_count": 51,
     "metadata": {},
     "output_type": "execute_result"
    },
    {
     "data": {
      "image/png": "[encoded data removed]",
      "text/plain": [
       "<Figure size 432x288 with 1 Axes>"
      ]
     },
     "metadata": {
      "needs_background": "light"
     },
     "output_type": "display_data"
    }
   ],
   "source": [
    "plot(xs,ys-zs) #error"
   ]
  },
  {
   "cell_type": "markdown",
   "metadata": {},
   "source": [
    "14) Runge-Kutta Method\n",
    "\n",
    "2nd Order"
   ]
  },
  {
   "cell_type": "code",
   "execution_count": 52,
   "metadata": {},
   "outputs": [
    {
     "data": {
      "text/plain": [
       "[<matplotlib.lines.Line2D at 0x197a5970320>]"
      ]
     },
     "execution_count": 52,
     "metadata": {},
     "output_type": "execute_result"
    },
    {
     "data": {
      "image/png": "[encoded data removed]",
      "text/plain": [
       "<Figure size 432x288 with 1 Axes>"
      ]
     },
     "metadata": {
      "needs_background": "light"
     },
     "output_type": "display_data"
    }
   ],
   "source": [
    "#same setup as Euler's\n",
    "n = 20\n",
    "xs = linspace(0,1,n) #generate n points\n",
    "h = xs[1]-xs[0] #1/n-1\n",
    "ys = zeros(n) #empty list of values y(xs)\n",
    "ys[0] = 1 #starting point\n",
    "for i in range(n-1):\n",
    "    x = xs[i]\n",
    "    y = ys[i]\n",
    "    K0 = h*F(x,y)\n",
    "    K1 = h*F(x+h,y+K0)\n",
    "    ys[i+1] = y+K0/2+K1/2\n",
    "zs = [exact(x) for x in xs]\n",
    "\n",
    "plot(xs,ys)\n",
    "plot(xs,zs)"
   ]
  },
  {
   "cell_type": "code",
   "execution_count": 30,
   "metadata": {},
   "outputs": [
    {
     "data": {
      "text/plain": [
       "[<matplotlib.lines.Line2D at 0x197a43aa978>]"
      ]
     },
     "execution_count": 30,
     "metadata": {},
     "output_type": "execute_result"
    },
    {
     "data": {
      "image/png": "[encoded data removed]",
      "text/plain": [
       "<Figure size 432x288 with 1 Axes>"
      ]
     },
     "metadata": {
      "needs_background": "light"
     },
     "output_type": "display_data"
    }
   ],
   "source": [
    "plot(xs,ys-zs) #error"
   ]
  },
  {
   "cell_type": "markdown",
   "metadata": {},
   "source": [
    "4th Order"
   ]
  },
  {
   "cell_type": "code",
   "execution_count": 31,
   "metadata": {},
   "outputs": [
    {
     "data": {
      "text/plain": [
       "[<matplotlib.lines.Line2D at 0x197a43eea90>]"
      ]
     },
     "execution_count": 31,
     "metadata": {},
     "output_type": "execute_result"
    },
    {
     "data": {
      "image/png": "[encoded data removed]",
      "text/plain": [
       "<Figure size 432x288 with 1 Axes>"
      ]
     },
     "metadata": {
      "needs_background": "light"
     },
     "output_type": "display_data"
    }
   ],
   "source": [
    "#same setup as 2nd order\n",
    "n= 20\n",
    "xs = linspace(0,1,n) #generate n points\n",
    "h = xs[1]-xs[0] #1/n-1\n",
    "ys = zeros(n) #empty list of values y(xs)\n",
    "ys[0] = 1 #starting point\n",
    "for i in range(n-1):\n",
    "    x = xs[i]\n",
    "    y = ys[i]\n",
    "    K0 = h*F(x,y)\n",
    "    K1 = h*F(x+h/2,y+K0/2)\n",
    "    K2 = h*F(x+h/2,y+K1/2)\n",
    "    K3 = h*F(x+h,y+K2)\n",
    "    ys[i+1] = y+(1/6)*(K0+2*K1+2*K2+K3)\n",
    "zs = [exact(x) for x in xs]\n",
    "    \n",
    "plot(xs,ys)\n",
    "plot(xs,zs)"
   ]
  },
  {
   "cell_type": "code",
   "execution_count": 32,
   "metadata": {},
   "outputs": [
    {
     "data": {
      "text/plain": [
       "[<matplotlib.lines.Line2D at 0x197a4474d30>]"
      ]
     },
     "execution_count": 32,
     "metadata": {},
     "output_type": "execute_result"
    },
    {
     "data": {
      "image/png": "[encoded data removed]",
      "text/plain": [
       "<Figure size 432x288 with 1 Axes>"
      ]
     },
     "metadata": {
      "needs_background": "light"
     },
     "output_type": "display_data"
    }
   ],
   "source": [
    "plot(xs,ys-zs) #error"
   ]
  },
  {
   "cell_type": "markdown",
   "metadata": {},
   "source": [
    "15) Shooting Method"
   ]
  },
  {
   "cell_type": "code",
   "execution_count": 33,
   "metadata": {},
   "outputs": [
    {
     "data": {
      "text/plain": [
       "[<matplotlib.lines.Line2D at 0x197a44aeac8>]"
      ]
     },
     "execution_count": 33,
     "metadata": {},
     "output_type": "execute_result"
    },
    {
     "data": {
      "image/png": "[encoded data removed]",
      "text/plain": [
       "<Figure size 432x288 with 1 Axes>"
      ]
     },
     "metadata": {
      "needs_background": "light"
     },
     "output_type": "display_data"
    }
   ],
   "source": [
    "ts = linspace(0,1,100);\n",
    "h = ts[1]-ts[0]\n",
    "y0 = [1/2]\n",
    "y1 = [0.21548361751961317] # just to try, not known\n",
    "for i in range(99):\n",
    "    y0.append(y0[-1]+y1[-1]*h) # like last time, the role of F is played by y1\n",
    "    y1.append(y1[-1]+sin(y0[-1])*h)\n",
    "plot(ts,y0)\n",
    "plot([0,1],[1/2,1],\"ro\") # now it works perfectly"
   ]
  },
  {
   "cell_type": "code",
   "execution_count": 34,
   "metadata": {},
   "outputs": [
    {
     "data": {
      "text/plain": [
       "0.016440700592511348"
      ]
     },
     "execution_count": 34,
     "metadata": {},
     "output_type": "execute_result"
    }
   ],
   "source": [
    "def displacement(alpha):\n",
    "    ts = linspace(0,1,100);\n",
    "    h = ts[1]-ts[0]\n",
    "    y0 = [1/2]\n",
    "    y1 = [alpha] \n",
    "    for i in range(99):\n",
    "        y0.append(y0[-1]+y1[-1]*h) # like last time, the role of F is played by y1\n",
    "        y1.append(y1[-1]+sin(y0[-1])*h)\n",
    "    return y0[-1]-1 # computes how far we are from the target\n",
    "\n",
    "displacement(1/4-2/100)"
   ]
  },
  {
   "cell_type": "code",
   "execution_count": 35,
   "metadata": {},
   "outputs": [
    {
     "data": {
      "text/plain": [
       "0.21548361751961317"
      ]
     },
     "execution_count": 35,
     "metadata": {},
     "output_type": "execute_result"
    }
   ],
   "source": [
    "def f(x):\n",
    "    return displacement(x)\n",
    "def df(x):\n",
    "    h = 1/1000\n",
    "    return (f(x+h)-f(x-h))/(2*h) # numerical differentiation\n",
    "def newton(f,df,x0):\n",
    "    xs = [x0]\n",
    "    for i in range(10):\n",
    "        xs.append(xs[-1]-f(xs[-1])/df(xs[-1]))\n",
    "    return xs[-1]\n",
    "newton(f,df,1/4) # result"
   ]
  },
  {
   "cell_type": "markdown",
   "metadata": {},
   "source": [
    "16) Euler-Maruyama Method"
   ]
  },
  {
   "cell_type": "code",
   "execution_count": 36,
   "metadata": {},
   "outputs": [
    {
     "data": {
      "text/plain": [
       "[<matplotlib.lines.Line2D at 0x197a4546588>]"
      ]
     },
     "execution_count": 36,
     "metadata": {},
     "output_type": "execute_result"
    },
    {
     "data": {
      "image/png": "[encoded data removed]",
      "text/plain": [
       "<Figure size 432x288 with 1 Axes>"
      ]
     },
     "metadata": {
      "needs_background": "light"
     },
     "output_type": "display_data"
    }
   ],
   "source": [
    "def brownian(T,sigma):\n",
    "    dt=0.001;\n",
    "    ts = arange(0,T,dt)\n",
    "    N = ts.size\n",
    "    xs = zeros(N)\n",
    "    xs[0]=0\n",
    "    sdt = sqrt(1*dt)\n",
    "    for i in arange(1,N):\n",
    "        xs[i] = xs[i-1] + sigma*random.normal(0,sdt)\n",
    "    return ts, xs\n",
    "\n",
    "ts,xs = brownian(1,1)\n",
    "plot(ts,xs)"
   ]
  },
  {
   "cell_type": "code",
   "execution_count": null,
   "metadata": {},
   "outputs": [],
   "source": []
  }
 ],
 "metadata": {
  "kernelspec": {
   "display_name": "Python 3",
   "language": "python",
   "name": "python3"
  },
  "language_info": {
   "codemirror_mode": {
    "name": "ipython",
    "version": 3
   },
   "file_extension": ".py",
   "mimetype": "text/x-python",
   "name": "python",
   "nbconvert_exporter": "python",
   "pygments_lexer": "ipython3",
   "version": "3.7.3"
  }
 },
 "nbformat": 4,
 "nbformat_minor": 2
}
